{
 "cells": [
  {
   "cell_type": "markdown",
   "id": "60793186",
   "metadata": {},
   "source": [
    "Jack Weyer\n",
    "github: jackweyer\n",
    "USC ID: 5835915208"
   ]
  },
  {
   "cell_type": "markdown",
   "id": "56d71283",
   "metadata": {},
   "source": [
    "4. Pandas"
   ]
  },
  {
   "cell_type": "code",
   "execution_count": 1,
   "id": "67cee5b3",
   "metadata": {},
   "outputs": [],
   "source": [
    "import pandas as pd"
   ]
  },
  {
   "cell_type": "code",
   "execution_count": 48,
   "id": "9d1dd420",
   "metadata": {},
   "outputs": [],
   "source": [
    "Sal = pd.read_csv(\"Salaries.csv\") #read data"
   ]
  },
  {
   "cell_type": "code",
   "execution_count": 51,
   "id": "341e05bd",
   "metadata": {
    "scrolled": true
   },
   "outputs": [
    {
     "data": {
      "text/html": [
       "<div>\n",
       "<style scoped>\n",
       "    .dataframe tbody tr th:only-of-type {\n",
       "        vertical-align: middle;\n",
       "    }\n",
       "\n",
       "    .dataframe tbody tr th {\n",
       "        vertical-align: top;\n",
       "    }\n",
       "\n",
       "    .dataframe thead th {\n",
       "        text-align: right;\n",
       "    }\n",
       "</style>\n",
       "<table border=\"1\" class=\"dataframe\">\n",
       "  <thead>\n",
       "    <tr style=\"text-align: right;\">\n",
       "      <th></th>\n",
       "      <th>yearID</th>\n",
       "      <th>teamID</th>\n",
       "      <th>lgID</th>\n",
       "      <th>playerID</th>\n",
       "      <th>salary</th>\n",
       "    </tr>\n",
       "  </thead>\n",
       "  <tbody>\n",
       "    <tr>\n",
       "      <th>0</th>\n",
       "      <td>1985</td>\n",
       "      <td>ATL</td>\n",
       "      <td>NL</td>\n",
       "      <td>bedrost01</td>\n",
       "      <td>550000</td>\n",
       "    </tr>\n",
       "    <tr>\n",
       "      <th>1</th>\n",
       "      <td>1985</td>\n",
       "      <td>ATL</td>\n",
       "      <td>NL</td>\n",
       "      <td>benedbr01</td>\n",
       "      <td>545000</td>\n",
       "    </tr>\n",
       "    <tr>\n",
       "      <th>2</th>\n",
       "      <td>1985</td>\n",
       "      <td>ATL</td>\n",
       "      <td>NL</td>\n",
       "      <td>campri01</td>\n",
       "      <td>633333</td>\n",
       "    </tr>\n",
       "    <tr>\n",
       "      <th>3</th>\n",
       "      <td>1985</td>\n",
       "      <td>ATL</td>\n",
       "      <td>NL</td>\n",
       "      <td>ceronri01</td>\n",
       "      <td>625000</td>\n",
       "    </tr>\n",
       "    <tr>\n",
       "      <th>4</th>\n",
       "      <td>1985</td>\n",
       "      <td>ATL</td>\n",
       "      <td>NL</td>\n",
       "      <td>chambch01</td>\n",
       "      <td>800000</td>\n",
       "    </tr>\n",
       "    <tr>\n",
       "      <th>...</th>\n",
       "      <td>...</td>\n",
       "      <td>...</td>\n",
       "      <td>...</td>\n",
       "      <td>...</td>\n",
       "      <td>...</td>\n",
       "    </tr>\n",
       "    <tr>\n",
       "      <th>25569</th>\n",
       "      <td>2015</td>\n",
       "      <td>WAS</td>\n",
       "      <td>NL</td>\n",
       "      <td>treinbl01</td>\n",
       "      <td>512800</td>\n",
       "    </tr>\n",
       "    <tr>\n",
       "      <th>25570</th>\n",
       "      <td>2015</td>\n",
       "      <td>WAS</td>\n",
       "      <td>NL</td>\n",
       "      <td>ugglada01</td>\n",
       "      <td>507500</td>\n",
       "    </tr>\n",
       "    <tr>\n",
       "      <th>25571</th>\n",
       "      <td>2015</td>\n",
       "      <td>WAS</td>\n",
       "      <td>NL</td>\n",
       "      <td>werthja01</td>\n",
       "      <td>21000000</td>\n",
       "    </tr>\n",
       "    <tr>\n",
       "      <th>25572</th>\n",
       "      <td>2015</td>\n",
       "      <td>WAS</td>\n",
       "      <td>NL</td>\n",
       "      <td>zimmejo02</td>\n",
       "      <td>16500000</td>\n",
       "    </tr>\n",
       "    <tr>\n",
       "      <th>25573</th>\n",
       "      <td>2015</td>\n",
       "      <td>WAS</td>\n",
       "      <td>NL</td>\n",
       "      <td>zimmery01</td>\n",
       "      <td>14000000</td>\n",
       "    </tr>\n",
       "  </tbody>\n",
       "</table>\n",
       "<p>25574 rows × 5 columns</p>\n",
       "</div>"
      ],
      "text/plain": [
       "       yearID teamID lgID   playerID    salary\n",
       "0        1985    ATL   NL  bedrost01    550000\n",
       "1        1985    ATL   NL  benedbr01    545000\n",
       "2        1985    ATL   NL   campri01    633333\n",
       "3        1985    ATL   NL  ceronri01    625000\n",
       "4        1985    ATL   NL  chambch01    800000\n",
       "...       ...    ...  ...        ...       ...\n",
       "25569    2015    WAS   NL  treinbl01    512800\n",
       "25570    2015    WAS   NL  ugglada01    507500\n",
       "25571    2015    WAS   NL  werthja01  21000000\n",
       "25572    2015    WAS   NL  zimmejo02  16500000\n",
       "25573    2015    WAS   NL  zimmery01  14000000\n",
       "\n",
       "[25574 rows x 5 columns]"
      ]
     },
     "execution_count": 51,
     "metadata": {},
     "output_type": "execute_result"
    }
   ],
   "source": []
  },
  {
   "cell_type": "markdown",
   "id": "71f80d6c",
   "metadata": {},
   "source": [
    "Make the column playerID in the csv file as the index column and the first row\n",
    "as the header. Also, skip the second row when reading the file"
   ]
  },
  {
   "cell_type": "code",
   "execution_count": 53,
   "id": "6e10e342",
   "metadata": {},
   "outputs": [],
   "source": [
    "Sal = Sal.iloc[1:].reset_index(drop = True)\n",
    "Sal = Sal.set_index(\"playerID\")"
   ]
  },
  {
   "cell_type": "markdown",
   "id": "ff71bc07",
   "metadata": {},
   "source": [
    "Select the id of the players who are registered in ATL and HOU whose salary is\n",
    "higher than one million."
   ]
  },
  {
   "cell_type": "code",
   "execution_count": 63,
   "id": "d75ad01b",
   "metadata": {},
   "outputs": [],
   "source": [
    "Sal = Sal[((Sal.teamID == \"ATL\") | (Sal.teamID == \"HOU\")) & (Sal.salary > 1000000)]"
   ]
  },
  {
   "cell_type": "code",
   "execution_count": null,
   "id": "0ab0eb24",
   "metadata": {},
   "outputs": [],
   "source": [
    "Use the describe() method to calculate the standard deviation, first quartile, me-\n",
    "dian, third quartile, mean, maximum, and minimum of the salary in team ATL."
   ]
  },
  {
   "cell_type": "code",
   "execution_count": 69,
   "id": "0647cccb",
   "metadata": {},
   "outputs": [
    {
     "data": {
      "text/plain": [
       "count    3.250000e+02\n",
       "mean     5.324481e+06\n",
       "std      4.083713e+06\n",
       "min      1.025000e+06\n",
       "25%      2.000000e+06\n",
       "50%      3.850000e+06\n",
       "75%      7.666667e+06\n",
       "max      1.606180e+07\n",
       "Name: salary, dtype: float64"
      ]
     },
     "execution_count": 69,
     "metadata": {},
     "output_type": "execute_result"
    }
   ],
   "source": [
    "Sal[(Sal.teamID == \"ATL\")].salary.describe()"
   ]
  },
  {
   "cell_type": "markdown",
   "id": "d6cd08fc",
   "metadata": {},
   "source": [
    "Create a Python dictionary object whose keys are the headers of the dataframe\n",
    "created in the read_csv() exercise and values are Python list objects that contain data corresponding to the headers. (Here, use the iterrows() method to iterate each row of the dataframe and copy it to a dictionary. However, there is an easier way. Learn how the to_dict() method works by yourself later)"
   ]
  },
  {
   "cell_type": "code",
   "execution_count": 92,
   "id": "f036a965",
   "metadata": {},
   "outputs": [],
   "source": [
    "Sal_dict = {}\n",
    "yearIDs = []\n",
    "teamIDs = []\n",
    "lgIDs = []\n",
    "salaries = []"
   ]
  },
  {
   "cell_type": "code",
   "execution_count": 93,
   "id": "9935a218",
   "metadata": {},
   "outputs": [],
   "source": [
    "for index, row in Sal.iterrows():\n",
    "    yearIDs.append(row[\"yearID\"])\n",
    "    teamIDs.append(row[\"teamID\"])\n",
    "    lgIDs.append(row[\"lgID\"])\n",
    "    salaries.append(row[\"salary\"])"
   ]
  },
  {
   "cell_type": "code",
   "execution_count": 94,
   "id": "67338d3e",
   "metadata": {},
   "outputs": [],
   "source": [
    "Sal_dict[\"teamID\"] = teamIDs\n",
    "Sal_dict[\"yearID\"] = yearIDs\n",
    "Sal_dict[\"lgID\"] = lgIDs\n",
    "Sal_dict[\"salary\"] = salaries"
   ]
  },
  {
   "cell_type": "markdown",
   "id": "da56ee30",
   "metadata": {},
   "source": [
    "Create a dataframe using pd.DataFrameRead and from\n",
    "the dictionary created in (e). Then, change the header to \"a\", \"b\", \"c\", ... "
   ]
  },
  {
   "cell_type": "code",
   "execution_count": 99,
   "id": "56a3a199",
   "metadata": {},
   "outputs": [],
   "source": [
    "new_df = pd.DataFrame(Sal_dict)\n",
    "new_df.columns = [\"a\", \"b\", \"c\", \"d\"]"
   ]
  },
  {
   "cell_type": "code",
   "execution_count": 100,
   "id": "32f86536",
   "metadata": {},
   "outputs": [
    {
     "data": {
      "text/html": [
       "<div>\n",
       "<style scoped>\n",
       "    .dataframe tbody tr th:only-of-type {\n",
       "        vertical-align: middle;\n",
       "    }\n",
       "\n",
       "    .dataframe tbody tr th {\n",
       "        vertical-align: top;\n",
       "    }\n",
       "\n",
       "    .dataframe thead th {\n",
       "        text-align: right;\n",
       "    }\n",
       "</style>\n",
       "<table border=\"1\" class=\"dataframe\">\n",
       "  <thead>\n",
       "    <tr style=\"text-align: right;\">\n",
       "      <th></th>\n",
       "      <th>a</th>\n",
       "      <th>b</th>\n",
       "      <th>c</th>\n",
       "      <th>d</th>\n",
       "    </tr>\n",
       "  </thead>\n",
       "  <tbody>\n",
       "    <tr>\n",
       "      <th>0</th>\n",
       "      <td>ATL</td>\n",
       "      <td>1985</td>\n",
       "      <td>NL</td>\n",
       "      <td>1500000</td>\n",
       "    </tr>\n",
       "    <tr>\n",
       "      <th>1</th>\n",
       "      <td>ATL</td>\n",
       "      <td>1985</td>\n",
       "      <td>NL</td>\n",
       "      <td>1625000</td>\n",
       "    </tr>\n",
       "    <tr>\n",
       "      <th>2</th>\n",
       "      <td>ATL</td>\n",
       "      <td>1985</td>\n",
       "      <td>NL</td>\n",
       "      <td>1354167</td>\n",
       "    </tr>\n",
       "    <tr>\n",
       "      <th>3</th>\n",
       "      <td>HOU</td>\n",
       "      <td>1985</td>\n",
       "      <td>NL</td>\n",
       "      <td>1350000</td>\n",
       "    </tr>\n",
       "    <tr>\n",
       "      <th>4</th>\n",
       "      <td>ATL</td>\n",
       "      <td>1986</td>\n",
       "      <td>NL</td>\n",
       "      <td>1800000</td>\n",
       "    </tr>\n",
       "    <tr>\n",
       "      <th>...</th>\n",
       "      <td>...</td>\n",
       "      <td>...</td>\n",
       "      <td>...</td>\n",
       "      <td>...</td>\n",
       "    </tr>\n",
       "    <tr>\n",
       "      <th>590</th>\n",
       "      <td>HOU</td>\n",
       "      <td>2015</td>\n",
       "      <td>AL</td>\n",
       "      <td>3000000</td>\n",
       "    </tr>\n",
       "    <tr>\n",
       "      <th>591</th>\n",
       "      <td>HOU</td>\n",
       "      <td>2015</td>\n",
       "      <td>AL</td>\n",
       "      <td>8000000</td>\n",
       "    </tr>\n",
       "    <tr>\n",
       "      <th>592</th>\n",
       "      <td>HOU</td>\n",
       "      <td>2015</td>\n",
       "      <td>AL</td>\n",
       "      <td>2000000</td>\n",
       "    </tr>\n",
       "    <tr>\n",
       "      <th>593</th>\n",
       "      <td>HOU</td>\n",
       "      <td>2015</td>\n",
       "      <td>AL</td>\n",
       "      <td>2400000</td>\n",
       "    </tr>\n",
       "    <tr>\n",
       "      <th>594</th>\n",
       "      <td>HOU</td>\n",
       "      <td>2015</td>\n",
       "      <td>AL</td>\n",
       "      <td>4200000</td>\n",
       "    </tr>\n",
       "  </tbody>\n",
       "</table>\n",
       "<p>595 rows × 4 columns</p>\n",
       "</div>"
      ],
      "text/plain": [
       "       a     b   c        d\n",
       "0    ATL  1985  NL  1500000\n",
       "1    ATL  1985  NL  1625000\n",
       "2    ATL  1985  NL  1354167\n",
       "3    HOU  1985  NL  1350000\n",
       "4    ATL  1986  NL  1800000\n",
       "..   ...   ...  ..      ...\n",
       "590  HOU  2015  AL  3000000\n",
       "591  HOU  2015  AL  8000000\n",
       "592  HOU  2015  AL  2000000\n",
       "593  HOU  2015  AL  2400000\n",
       "594  HOU  2015  AL  4200000\n",
       "\n",
       "[595 rows x 4 columns]"
      ]
     },
     "execution_count": 100,
     "metadata": {},
     "output_type": "execute_result"
    }
   ],
   "source": [
    "new_df"
   ]
  },
  {
   "cell_type": "markdown",
   "id": "d48f977a",
   "metadata": {},
   "source": [
    "5. Numpy"
   ]
  },
  {
   "cell_type": "code",
   "execution_count": 104,
   "id": "7efea1de",
   "metadata": {},
   "outputs": [],
   "source": [
    "import numpy as np"
   ]
  },
  {
   "cell_type": "markdown",
   "id": "19ae46dd",
   "metadata": {},
   "source": [
    "Create a 2-dimensional Python list object, then convert it to a Numpy array\n",
    "object."
   ]
  },
  {
   "cell_type": "code",
   "execution_count": 101,
   "id": "2201198d",
   "metadata": {},
   "outputs": [],
   "source": [
    "list = [[17]*4]*4"
   ]
  },
  {
   "cell_type": "code",
   "execution_count": 108,
   "id": "90d72132",
   "metadata": {},
   "outputs": [
    {
     "data": {
      "text/plain": [
       "array([[17, 17, 17, 17],\n",
       "       [17, 17, 17, 17],\n",
       "       [17, 17, 17, 17],\n",
       "       [17, 17, 17, 17]])"
      ]
     },
     "execution_count": 108,
     "metadata": {},
     "output_type": "execute_result"
    }
   ],
   "source": [
    "array = np.array(list)\n",
    "array"
   ]
  },
  {
   "cell_type": "markdown",
   "id": "3040e517",
   "metadata": {},
   "source": [
    "Examine the ndim, shape, size, dtype, itemsize, and data attributes of the numpy array object. Make sure you understand their functions"
   ]
  },
  {
   "cell_type": "code",
   "execution_count": 116,
   "id": "648c1dd4",
   "metadata": {},
   "outputs": [
    {
     "name": "stdout",
     "output_type": "stream",
     "text": [
      "2\n",
      "(4, 4)\n",
      "16\n",
      "int32\n",
      "4\n",
      "<memory at 0x0000021EDB303EE0>\n"
     ]
    }
   ],
   "source": [
    "print(array.ndim)\n",
    "print(array.shape)\n",
    "print(array.size)\n",
    "print(array.dtype)\n",
    "print(array.itemsize)\n",
    "print(array.data)"
   ]
  },
  {
   "cell_type": "markdown",
   "id": "985ece7f",
   "metadata": {},
   "source": [
    "Learn the dimension concept of an ndarray object by using reshape() and flatten() methods"
   ]
  },
  {
   "cell_type": "code",
   "execution_count": 128,
   "id": "098c32f1",
   "metadata": {},
   "outputs": [
    {
     "name": "stdout",
     "output_type": "stream",
     "text": [
      "[[ 0  1]\n",
      " [ 2  3]\n",
      " [ 4  5]\n",
      " [ 6  7]\n",
      " [ 8  9]\n",
      " [10 11]\n",
      " [12 13]\n",
      " [14 15]]\n"
     ]
    }
   ],
   "source": [
    "print(np.arange(16).reshape(8,2))\n",
    "flat = array.flatten()"
   ]
  },
  {
   "cell_type": "markdown",
   "id": "e51a1d32",
   "metadata": {},
   "source": [
    "Understand how the slice operation works for 1-D arrays and 2-D arrays and\n",
    "practice by yourself."
   ]
  },
  {
   "cell_type": "code",
   "execution_count": 130,
   "id": "0a2a730c",
   "metadata": {},
   "outputs": [
    {
     "name": "stdout",
     "output_type": "stream",
     "text": [
      "[17 17 17 17]\n",
      "[17 17]\n"
     ]
    }
   ],
   "source": [
    "print(flat[:4])\n",
    "print(array[1, 1:3])"
   ]
  },
  {
   "cell_type": "markdown",
   "id": "cd8d79e4",
   "metadata": {},
   "source": [
    "Learn operations on ndarray by examining the argmin(), argmax(), min(), max(),\n",
    "mean(), sum(), std(), dot(), square(), sqrt(), abs(). exp(), sign(), and mod()\n",
    "methods. Make yourself comfortable with these methods."
   ]
  },
  {
   "cell_type": "code",
   "execution_count": 168,
   "id": "a7612d7a",
   "metadata": {},
   "outputs": [
    {
     "name": "stdout",
     "output_type": "stream",
     "text": [
      "0\n",
      "0\n",
      "17\n",
      "17\n",
      "17.0\n",
      "272\n",
      "0.0\n"
     ]
    },
    {
     "ename": "TypeError",
     "evalue": "dot() missing 1 required positional argument: 'b'",
     "output_type": "error",
     "traceback": [
      "\u001b[1;31m---------------------------------------------------------------------------\u001b[0m",
      "\u001b[1;31mTypeError\u001b[0m                                 Traceback (most recent call last)",
      "Input \u001b[1;32mIn [168]\u001b[0m, in \u001b[0;36m<cell line: 8>\u001b[1;34m()\u001b[0m\n\u001b[0;32m      6\u001b[0m \u001b[38;5;28mprint\u001b[39m(array\u001b[38;5;241m.\u001b[39msum())\n\u001b[0;32m      7\u001b[0m \u001b[38;5;28mprint\u001b[39m(array\u001b[38;5;241m.\u001b[39mstd())\n\u001b[1;32m----> 8\u001b[0m \u001b[38;5;28mprint\u001b[39m(\u001b[43mnp\u001b[49m\u001b[38;5;241;43m.\u001b[39;49m\u001b[43mdot\u001b[49m\u001b[43m(\u001b[49m\u001b[43marray\u001b[49m\u001b[43m)\u001b[49m)\n\u001b[0;32m      9\u001b[0m \u001b[38;5;28mprint\u001b[39m(np\u001b[38;5;241m.\u001b[39msquare(array))\n\u001b[0;32m     10\u001b[0m \u001b[38;5;28mprint\u001b[39m(np\u001b[38;5;241m.\u001b[39msqrt(\u001b[38;5;241m16\u001b[39m))\n",
      "File \u001b[1;32m<__array_function__ internals>:4\u001b[0m, in \u001b[0;36mdot\u001b[1;34m(*args, **kwargs)\u001b[0m\n",
      "\u001b[1;31mTypeError\u001b[0m: dot() missing 1 required positional argument: 'b'"
     ]
    }
   ],
   "source": [
    "print(flat.argmin())\n",
    "print(array.argmax())\n",
    "print(array.min())\n",
    "print(array.max())\n",
    "print(array.mean())\n",
    "print(array.sum())\n",
    "print(array.std())\n",
    "#print(np.dot(array))\n",
    "print(np.square(array))\n",
    "print(np.sqrt(16))\n",
    "abs(array)"
   ]
  },
  {
   "cell_type": "markdown",
   "id": "63e6974d",
   "metadata": {},
   "source": [
    "Examine the arange(), ones(), zeros(), eye(), linspace(), and concatenate() methods. Make yourself comfortable with these methods."
   ]
  },
  {
   "cell_type": "code",
   "execution_count": 161,
   "id": "69a2e7d3",
   "metadata": {},
   "outputs": [
    {
     "name": "stdout",
     "output_type": "stream",
     "text": [
      "[ 0  1  2  3  4  5  6  7  8  9 10 11 12 13 14 15]\n"
     ]
    }
   ],
   "source": [
    "print(np.arange(16))"
   ]
  },
  {
   "cell_type": "code",
   "execution_count": 178,
   "id": "a2c09922",
   "metadata": {},
   "outputs": [
    {
     "name": "stdout",
     "output_type": "stream",
     "text": [
      "[1. 1. 1. 1. 1.]\n",
      "[0. 0. 0. 0. 0.]\n",
      "[[1. 0. 0. 0. 0.]\n",
      " [0. 1. 0. 0. 0.]\n",
      " [0. 0. 1. 0. 0.]\n",
      " [0. 0. 0. 1. 0.]\n",
      " [0. 0. 0. 0. 1.]]\n"
     ]
    },
    {
     "ename": "TypeError",
     "evalue": "dispatcher for __array_function__ did not return an iterable",
     "output_type": "error",
     "traceback": [
      "\u001b[1;31m---------------------------------------------------------------------------\u001b[0m",
      "\u001b[1;31mTypeError\u001b[0m                                 Traceback (most recent call last)",
      "Input \u001b[1;32mIn [178]\u001b[0m, in \u001b[0;36m<cell line: 5>\u001b[1;34m()\u001b[0m\n\u001b[0;32m      3\u001b[0m \u001b[38;5;28mprint\u001b[39m(np\u001b[38;5;241m.\u001b[39meye(\u001b[38;5;241m5\u001b[39m))\n\u001b[0;32m      4\u001b[0m time \u001b[38;5;241m=\u001b[39m np\u001b[38;5;241m.\u001b[39mlinspace(\u001b[38;5;241m20\u001b[39m, \u001b[38;5;241m145\u001b[39m,\u001b[38;5;241m5\u001b[39m)\n\u001b[1;32m----> 5\u001b[0m \u001b[43mnp\u001b[49m\u001b[38;5;241;43m.\u001b[39;49m\u001b[43mconcatenate\u001b[49m\u001b[43m(\u001b[49m\u001b[38;5;241;43m1\u001b[39;49m\u001b[43m,\u001b[49m\u001b[38;5;241;43m2\u001b[39;49m\u001b[43m)\u001b[49m\n",
      "File \u001b[1;32m<__array_function__ internals>:5\u001b[0m, in \u001b[0;36mconcatenate\u001b[1;34m(*args, **kwargs)\u001b[0m\n",
      "\u001b[1;31mTypeError\u001b[0m: dispatcher for __array_function__ did not return an iterable"
     ]
    }
   ],
   "source": [
    "print(np.ones(5))\n",
    "print(np.zeros(5))\n",
    "print(np.eye(5))\n",
    "time = np.linspace(20, 145,5)\n",
    "np.concatenate(#array1, #array2, #axis=_)"
   ]
  },
  {
   "cell_type": "code",
   "execution_count": 175,
   "id": "28b5b249",
   "metadata": {},
   "outputs": [
    {
     "data": {
      "text/plain": [
       "array([ 20.  ,  51.25,  82.5 , 113.75, 145.  ])"
      ]
     },
     "execution_count": 175,
     "metadata": {},
     "output_type": "execute_result"
    }
   ],
   "source": [
    "time"
   ]
  },
  {
   "cell_type": "markdown",
   "id": "b647fe3e",
   "metadata": {},
   "source": [
    "6. Scikit-Learn"
   ]
  },
  {
   "cell_type": "code",
   "execution_count": null,
   "id": "02216179",
   "metadata": {},
   "outputs": [],
   "source": []
  }
 ],
 "metadata": {
  "kernelspec": {
   "display_name": "Python 3 (ipykernel)",
   "language": "python",
   "name": "python3"
  },
  "language_info": {
   "codemirror_mode": {
    "name": "ipython",
    "version": 3
   },
   "file_extension": ".py",
   "mimetype": "text/x-python",
   "name": "python",
   "nbconvert_exporter": "python",
   "pygments_lexer": "ipython3",
   "version": "3.9.12"
  }
 },
 "nbformat": 4,
 "nbformat_minor": 5
}
